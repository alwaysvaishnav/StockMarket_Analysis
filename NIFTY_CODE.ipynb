{
 "cells": [
  {
   "cell_type": "code",
   "execution_count": null,
   "id": "8718f078",
   "metadata": {},
   "outputs": [],
   "source": [
    "import csv\n",
    "import pandas as pd\n",
    "import numpy as np\n",
    "from collections import OrderedDict"
   ]
  },
  {
   "cell_type": "code",
   "execution_count": null,
   "id": "2e899f79",
   "metadata": {},
   "outputs": [],
   "source": [
    "nifty=pd.read_csv(\"NIFTY.csv\")"
   ]
  },
  {
   "cell_type": "code",
   "execution_count": null,
   "id": "a7d95214",
   "metadata": {},
   "outputs": [],
   "source": [
    "nifty.head()"
   ]
  },
  {
   "cell_type": "code",
   "execution_count": null,
   "id": "1cf35166",
   "metadata": {},
   "outputs": [],
   "source": [
    "nifty_unique_date=nifty['DATE'].unique()"
   ]
  },
  {
   "cell_type": "markdown",
   "id": "58c82154",
   "metadata": {},
   "source": [
    "data recorded for no. of unique dates"
   ]
  },
  {
   "cell_type": "code",
   "execution_count": null,
   "id": "ba761bb0",
   "metadata": {},
   "outputs": [],
   "source": [
    "len(nifty_unique_date)"
   ]
  },
  {
   "cell_type": "code",
   "execution_count": null,
   "id": "1fee900d",
   "metadata": {},
   "outputs": [],
   "source": [
    "group_high = nifty.groupby('DATE')\n",
    "\n",
    "df1 = group_high.apply(lambda x: x['HIGH'].unique())"
   ]
  },
  {
   "cell_type": "code",
   "execution_count": null,
   "id": "8b50b4f2",
   "metadata": {},
   "outputs": [],
   "source": [
    "group_low = nifty.groupby('DATE')\n",
    "\n",
    "df2 = group_low.apply(lambda y: y['LOW'].unique())"
   ]
  },
  {
   "cell_type": "code",
   "execution_count": null,
   "id": "8ab44a6b",
   "metadata": {},
   "outputs": [],
   "source": [
    "df1.head()"
   ]
  },
  {
   "cell_type": "code",
   "execution_count": 1,
   "id": "5ecb7c4b",
   "metadata": {},
   "outputs": [
    {
     "ename": "NameError",
     "evalue": "name 'df2' is not defined",
     "output_type": "error",
     "traceback": [
      "\u001b[1;31m---------------------------------------------------------------------------\u001b[0m",
      "\u001b[1;31mNameError\u001b[0m                                 Traceback (most recent call last)",
      "\u001b[1;32m~\\AppData\\Local\\Temp/ipykernel_7180/3742722143.py\u001b[0m in \u001b[0;36m<module>\u001b[1;34m\u001b[0m\n\u001b[1;32m----> 1\u001b[1;33m \u001b[0mdf2\u001b[0m\u001b[1;33m.\u001b[0m\u001b[0mhead\u001b[0m\u001b[1;33m(\u001b[0m\u001b[1;33m)\u001b[0m\u001b[1;33m\u001b[0m\u001b[1;33m\u001b[0m\u001b[0m\n\u001b[0m",
      "\u001b[1;31mNameError\u001b[0m: name 'df2' is not defined"
     ]
    }
   ],
   "source": [
    "df2.head()"
   ]
  },
  {
   "cell_type": "code",
   "execution_count": null,
   "id": "26369132",
   "metadata": {},
   "outputs": [],
   "source": [
    "print(len(df1.keys()))\n",
    "print(len(df2.keys()))"
   ]
  },
  {
   "cell_type": "code",
   "execution_count": null,
   "id": "e71d0230",
   "metadata": {},
   "outputs": [],
   "source": [
    "final=pd.DataFrame(df1.items(), columns=['Date', 'HIGH'])\n",
    "final2=pd.DataFrame(df2.items(), columns=['Date', 'LOW'])"
   ]
  },
  {
   "cell_type": "code",
   "execution_count": null,
   "id": "7d189131",
   "metadata": {},
   "outputs": [],
   "source": [
    "final.head(10)"
   ]
  },
  {
   "cell_type": "code",
   "execution_count": null,
   "id": "d899cae4",
   "metadata": {},
   "outputs": [],
   "source": [
    "for ind in final.index:\n",
    "    final['HIGH'][ind]=max(final['HIGH'][ind])"
   ]
  },
  {
   "cell_type": "code",
   "execution_count": null,
   "id": "15dfc29f",
   "metadata": {},
   "outputs": [],
   "source": [
    "final2.head(10)"
   ]
  },
  {
   "cell_type": "code",
   "execution_count": null,
   "id": "9e4b5602",
   "metadata": {},
   "outputs": [],
   "source": [
    "ar=[]\n",
    "for ind in final2.index:\n",
    "    ar.append(min(final2['LOW'][ind]))"
   ]
  },
  {
   "cell_type": "code",
   "execution_count": null,
   "id": "a1f0a042",
   "metadata": {},
   "outputs": [],
   "source": [
    "final['LOW']=ar"
   ]
  },
  {
   "cell_type": "code",
   "execution_count": null,
   "id": "f9962b0d",
   "metadata": {},
   "outputs": [],
   "source": [
    "final.head(20)"
   ]
  },
  {
   "cell_type": "code",
   "execution_count": null,
   "id": "b832859e",
   "metadata": {},
   "outputs": [],
   "source": [
    "final['Date'] = pd.to_datetime(final['Date'], format='%d-%m-%Y')"
   ]
  },
  {
   "cell_type": "code",
   "execution_count": null,
   "id": "7a2d2c67",
   "metadata": {},
   "outputs": [],
   "source": [
    "final=final.sort_values(by=['Date'], ascending=True)"
   ]
  },
  {
   "cell_type": "code",
   "execution_count": null,
   "id": "8c1b8202",
   "metadata": {},
   "outputs": [],
   "source": [
    "final.head(20)"
   ]
  },
  {
   "cell_type": "code",
   "execution_count": null,
   "id": "d55b0743",
   "metadata": {},
   "outputs": [],
   "source": [
    "final.to_csv('DAILY_RANGE_NIFTY,csv', header=True, index=False)\n"
   ]
  },
  {
   "cell_type": "code",
   "execution_count": null,
   "id": "1299d8cd",
   "metadata": {},
   "outputs": [],
   "source": []
  }
 ],
 "metadata": {
  "kernelspec": {
   "display_name": "Python 3 (ipykernel)",
   "language": "python",
   "name": "python3"
  },
  "language_info": {
   "codemirror_mode": {
    "name": "ipython",
    "version": 3
   },
   "file_extension": ".py",
   "mimetype": "text/x-python",
   "name": "python",
   "nbconvert_exporter": "python",
   "pygments_lexer": "ipython3",
   "version": "3.9.7"
  }
 },
 "nbformat": 4,
 "nbformat_minor": 5
}
